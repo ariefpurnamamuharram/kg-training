{
 "cells": [
  {
   "cell_type": "code",
   "execution_count": 6,
   "metadata": {
    "collapsed": true
   },
   "outputs": [
    {
     "name": "stdout",
     "output_type": "stream",
     "text": [
      "http://example.org/people/budi\n",
      "Budi\n",
      "34\n",
      "167.5\n"
     ]
    }
   ],
   "source": [
    "import rdflib\n",
    "from rdflib import URIRef, Literal\n",
    "from rdflib import Namespace\n",
    "from rdflib.namespace import FOAF, RDF\n",
    "\n",
    "budi = URIRef(\"http://example.org/people/budi\")\n",
    "\n",
    "name = Literal(\"Budi\")\n",
    "\n",
    "age = Literal(34)\n",
    "\n",
    "height = Literal(167.5)\n",
    "\n",
    "print(budi)\n",
    "print(name)\n",
    "print(age)\n",
    "print(height)"
   ]
  },
  {
   "cell_type": "code",
   "execution_count": 7,
   "outputs": [
    {
     "name": "stdout",
     "output_type": "stream",
     "text": [
      "http://example.org/people/budi\n",
      "http://example.org/people/kartini\n",
      "http://www.w3.org/1999/02/22-rdf-syntax-ns#type\n",
      "http://xmlns.com/foaf/0.1/knows\n"
     ]
    }
   ],
   "source": [
    "# create/reuse RDF terms from namespaces\n",
    "\n",
    "# custom namespace\n",
    "people = Namespace(\"http://example.org/people/\")\n",
    "\n",
    "print(people.budi)\n",
    "print(people.kartini)\n",
    "\n",
    "# from RDF\n",
    "print(RDF.type)\n",
    "\n",
    "# from RDF\n",
    "print(FOAF.knows)\n"
   ],
   "metadata": {
    "collapsed": false,
    "pycharm": {
     "name": "#%%\n"
    }
   }
  },
  {
   "cell_type": "code",
   "execution_count": 8,
   "outputs": [
    {
     "name": "stdout",
     "output_type": "stream",
     "text": [
      "\n",
      "<http://example.org/people/budi> a <http://xmlns.com/foaf/0.1/Person> .\n",
      "\n",
      "\n"
     ]
    }
   ],
   "source": [
    "# create triples\n",
    "\n",
    "# set up RDF graph\n",
    "g = rdflib.Graph()\n",
    "\n",
    "# add a triple\n",
    "g.add((people.budi, RDF.type, FOAF.Person))\n",
    "\n",
    "# printing graph\n",
    "print(g.serialize(format=\"turtle\"))"
   ],
   "metadata": {
    "collapsed": false,
    "pycharm": {
     "name": "#%%\n"
    }
   }
  },
  {
   "cell_type": "code",
   "execution_count": 9,
   "outputs": [
    {
     "name": "stdout",
     "output_type": "stream",
     "text": [
      "@prefix foaf: <http://xmlns.com/foaf/0.1/> .\n",
      "@prefix people: <http://example.org/people/> .\n",
      "@prefix xsd: <http://www.w3.org/2001/XMLSchema#> .\n",
      "\n",
      "people:budi a foaf:Person ;\n",
      "    people:age 34 ;\n",
      "    foaf:knows people:kartini .\n",
      "\n",
      "people:kartini people:age 30 .\n",
      "\n",
      "\n"
     ]
    }
   ],
   "source": [
    "# make prefixes\n",
    "g.bind(\"people\", people)\n",
    "g.bind(\"foaf\", FOAF)\n",
    "\n",
    "# add triples\n",
    "g.add((people.budi, FOAF.knows, people.kartini))\n",
    "g.add((people.budi, people.age, Literal(34)))\n",
    "g.add((people.kartini, people.age, Literal(30)))\n",
    "\n",
    "# printing again\n",
    "print(g.serialize(format=\"turtle\"))"
   ],
   "metadata": {
    "collapsed": false,
    "pycharm": {
     "name": "#%%\n"
    }
   }
  },
  {
   "cell_type": "code",
   "execution_count": 10,
   "outputs": [
    {
     "name": "stdout",
     "output_type": "stream",
     "text": [
      "<http://example.org/people/kartini> <http://example.org/people/age> \"30\"^^<http://www.w3.org/2001/XMLSchema#integer> .\n",
      "<http://example.org/people/budi> <http://www.w3.org/1999/02/22-rdf-syntax-ns#type> <http://xmlns.com/foaf/0.1/Person> .\n",
      "<http://example.org/people/budi> <http://xmlns.com/foaf/0.1/knows> <http://example.org/people/kartini> .\n",
      "<http://example.org/people/budi> <http://example.org/people/age> \"34\"^^<http://www.w3.org/2001/XMLSchema#integer> .\n",
      "\n",
      "\n"
     ]
    }
   ],
   "source": [
    "# serialize in N-Triples\n",
    "print(g.serialize(format=\"nt11\"))\n"
   ],
   "metadata": {
    "collapsed": false,
    "pycharm": {
     "name": "#%%\n"
    }
   }
  },
  {
   "cell_type": "code",
   "execution_count": 11,
   "outputs": [
    {
     "name": "stdout",
     "output_type": "stream",
     "text": [
      "@prefix city: <http://example.org/city/> .\n",
      "@prefix ex: <http://example.org/> .\n",
      "\n",
      "city:Denpasar ex:type \"city\" .\n",
      "\n",
      "city:Jakarta ex:capitalOf city:Indonesia ;\n",
      "    ex:dateFounded \"194-08-17\" ;\n",
      "    ex:type \"city\" .\n",
      "\n",
      "\n"
     ]
    }
   ],
   "source": [
    "# TASK 1\n",
    "ex = Namespace(\"http://example.org/\")\n",
    "city = Namespace(\"http://example.org/city/\")\n",
    "\n",
    "g2 = rdflib.Graph()\n",
    "\n",
    "g2.bind(\"ex\", ex)\n",
    "g2.bind(\"city\", city)\n",
    "\n",
    "g2.add((city.Jakarta, ex.capitalOf, city.Indonesia))\n",
    "g2.add((city.Jakarta, ex.dateFounded, Literal(\"194-08-17\")))\n",
    "g2.add((city.Jakarta, ex.type, Literal(\"city\")))\n",
    "g2.add((city.Denpasar, ex.type, Literal(\"city\")))\n",
    "\n",
    "print(g2.serialize(format=\"turtle\"))"
   ],
   "metadata": {
    "collapsed": false,
    "pycharm": {
     "name": "#%%\n"
    }
   }
  },
  {
   "cell_type": "code",
   "execution_count": 12,
   "outputs": [
    {
     "name": "stdout",
     "output_type": "stream",
     "text": [
      "http://example.org/people/budi http://example.org/people/likes http://example.org/people/kartini\n",
      "http://example.org/people/budi http://example.org/people/age 34\n"
     ]
    }
   ],
   "source": [
    "# create a graph from string\n",
    "\n",
    "g = rdflib.Graph()\n",
    "rdf_str = \"\"\"\n",
    "@prefix people: <http://example.org/people/> .\n",
    "\n",
    "people:budi people:age 34 ;\n",
    "    people:likes people:kartini .\n",
    "\"\"\"\n",
    "\n",
    "# parse graph\n",
    "g.parse(data=rdf_str, format=\"turtle\")\n",
    "\n",
    "# loop over graph\n",
    "for (s,p,o) in g:\n",
    "    print(s,p,o)"
   ],
   "metadata": {
    "collapsed": false,
    "pycharm": {
     "name": "#%%\n"
    }
   }
  },
  {
   "cell_type": "code",
   "execution_count": 13,
   "outputs": [
    {
     "data": {
      "text/plain": "<Graph identifier=Nacaf814b605e4e7ca3e550bc2106e25c (<class 'rdflib.graph.Graph'>)>"
     },
     "execution_count": 13,
     "metadata": {},
     "output_type": "execute_result"
    }
   ],
   "source": [
    "# save a graph to file\n",
    "g.serialize(\"my_rdf.ttl\", format=\"turtle\")"
   ],
   "metadata": {
    "collapsed": false,
    "pycharm": {
     "name": "#%%\n"
    }
   }
  },
  {
   "cell_type": "code",
   "execution_count": 14,
   "outputs": [
    {
     "name": "stdout",
     "output_type": "stream",
     "text": [
      "@prefix people: <http://example.org/people/> .\n",
      "@prefix xsd: <http://www.w3.org/2001/XMLSchema#> .\n",
      "\n",
      "people:budi people:age 34 ;\n",
      "    people:likes people:kartini .\n",
      "\n",
      "\n"
     ]
    }
   ],
   "source": [
    "# read a graph from file\n",
    "g = rdflib.Graph()\n",
    "g.parse(\"my_rdf.ttl\", format=\"turtle\")\n",
    "print(g.serialize(format=\"turtle\"))"
   ],
   "metadata": {
    "collapsed": false,
    "pycharm": {
     "name": "#%%\n"
    }
   }
  },
  {
   "cell_type": "code",
   "execution_count": 16,
   "outputs": [
    {
     "name": "stdout",
     "output_type": "stream",
     "text": [
      "@prefix dbo: <http://dbpedia.org/ontology/> .\n",
      "@prefix dbp: <http://dbpedia.org/property/> .\n",
      "@prefix dct: <http://purl.org/dc/terms/> .\n",
      "@prefix foaf: <http://xmlns.com/foaf/0.1/> .\n",
      "@prefix geo: <http://www.w3.org/2003/01/geo/wgs84_pos#> .\n",
      "@prefix georss: <http://www.georss.org/georss/> .\n",
      "@prefix owl: <http://www.w3.org/2002/07/owl#> .\n",
      "@prefix prov: <http://www.w3.org/ns/prov#> .\n",
      "@prefix rdfs: <http://www.w3.org/2000/01/rdf-schema#> .\n",
      "@prefix xsd: <http://www.w3.org/2001/XMLSchema#> .\n",
      "\n",
      "<http://dbpedia.org/resource/2019_Liga_1_(Indonesia)> dbo:wikiPageWikiLink <http://dbpedia.org/resource/Jawa_Timur_Park> .\n",
      "\n",
      "<http://dbpedia.org/resource/2020_Liga_1_(Indonesia)> dbo:wikiPageWikiLink <http://dbpedia.org/resource/Jawa_Timur_Park> .\n",
      "\n",
      "<http://dbpedia.org/resource/Daud_Yordan> dbo:wikiPageWikiLink <http://dbpedia.org/resource/Jawa_Timur_Park> .\n",
      "\n",
      "<http://dbpedia.org/resource/List_of_zoos_by_country> dbo:wikiPageWikiLink <http://dbpedia.org/resource/Jawa_Timur_Park> .\n",
      "\n",
      "<http://dbpedia.org/resource/List_of_amusement_parks_in_Asia> dbo:wikiPageWikiLink <http://dbpedia.org/resource/Jawa_Timur_Park> .\n",
      "\n",
      "<http://dbpedia.org/resource/Museum_Angkut> dbo:wikiPageWikiLink <http://dbpedia.org/resource/Jawa_Timur_Park> .\n",
      "\n",
      "<http://dbpedia.org/resource/Taman_Safari> dbo:wikiPageWikiLink <http://dbpedia.org/resource/Jawa_Timur_Park> .\n",
      "\n",
      "<http://en.wikipedia.org/wiki/Jawa_Timur_Park> foaf:primaryTopic <http://dbpedia.org/resource/Jawa_Timur_Park> .\n",
      "\n",
      "<http://dbpedia.org/resource/Batu,_East_Java> dbo:wikiPageWikiLink <http://dbpedia.org/resource/Jawa_Timur_Park> .\n",
      "\n",
      "<http://dbpedia.org/resource/East_Java> dbo:wikiPageWikiLink <http://dbpedia.org/resource/Jawa_Timur_Park> .\n",
      "\n",
      "<http://dbpedia.org/resource/Jawa_Timur_Park> a geo:SpatialThing ;\n",
      "    rdfs:label \"Jawa Timur Park\"@en,\n",
      "        \"Jatim Park\"@in ;\n",
      "    dbo:abstract \"Jawa Timur Park, commonly known as Jatim Park or JTP, is a complex of recreational and learning parks located in Batu, East Java, Indonesia. The complex has 3 parks, Jatim Park 1, Jatim Park 2, and Jatim Park 3. Jatim Park is one of the tourism icons of East Java and one of the most famous amusement parks in Indonesia.\"@en,\n",
      "        \"Jatim Park adalah sebuah tempat rekreasi dan taman belajar yang terdapat di Kota Batu, Jawa Timur. Objek wisata ini berada sekitar 20 km barat Kota Malang, dan kini menjadi salah satu icon wisata Jawa Timur. Objek wisata ini memiliki 36 wahana, di antaranya kolam renang raksasa (dengan latar belakang patung Ken Dedes, Ken Arok, dan Mpu Gandring), spinning coaster, dan drop zone. Wahana pendidikan yang menjadi pusat perhatian di antaranya adalah Volcano dan Galeri Nusantara yang juga terdapat tanaman agro, diorama binatang langka, dan miniatur candi-candi. Jatim Park 1 beralamat di Jalan Kartika no. 2, yang berdekatan dengan Jatim Park 1 dinobatkan sebagai juara 1 kategori wisata buatan berskala besar tingkat nasional yang dianugerahkan Menteri Pariwisata dan Ekonomi Kreatif, Mari Elka Pangestu, Jumat (27/9/2013), di Jakarta. “Saya tidak menyangka Kota Wisata Batu sedemikian indah. Kita tidak perlu ke Disneyland, Ancol, cukup disini (Batu, Red),” kata Mari Elka Pengestu di Klub Bunga dalam acara Galadinner bersama Muspida Malang Raya, Rabu (2/5/2013).\"@in ;\n",
      "    dbo:wikiPageExternalLink <https://jtp.id/>,\n",
      "        <https://www.jtp.id/> ;\n",
      "    dbo:wikiPageID 60475928 ;\n",
      "    dbo:wikiPageLength \"19651\"^^xsd:nonNegativeInteger ;\n",
      "    dbo:wikiPageRevisionID 1041615279 ;\n",
      "    dbo:wikiPageWikiLink <http://dbpedia.org/resource/2021_East_Java_earthquake>,\n",
      "        <http://dbpedia.org/resource/Acrantophis_madagascariensis>,\n",
      "        <http://dbpedia.org/resource/Africa>,\n",
      "        <http://dbpedia.org/resource/African_sharptooth_catfish>,\n",
      "        <http://dbpedia.org/resource/African_spurred_tortoise>,\n",
      "        <http://dbpedia.org/resource/Aldabra_giant_tortoise>,\n",
      "        <http://dbpedia.org/resource/Alligator_snapping_turtle>,\n",
      "        <http://dbpedia.org/resource/Alpaca>,\n",
      "        <http://dbpedia.org/resource/Amboina_box_turtle>,\n",
      "        <http://dbpedia.org/resource/American_Pygmy>,\n",
      "        <http://dbpedia.org/resource/American_beaver>,\n",
      "        <http://dbpedia.org/resource/Amethystine_python>,\n",
      "        <http://dbpedia.org/resource/Amusement_park>,\n",
      "        <http://dbpedia.org/resource/Asia>,\n",
      "        <http://dbpedia.org/resource/Asian_small-clawed_otter>,\n",
      "        <http://dbpedia.org/resource/Australian_green_tree_frog>,\n",
      "        <http://dbpedia.org/resource/Australian_pelican>,\n",
      "        <http://dbpedia.org/resource/Axolotl>,\n",
      "        <http://dbpedia.org/resource/Ball_python>,\n",
      "        <http://dbpedia.org/resource/Banded_mongoose>,\n",
      "        <http://dbpedia.org/resource/Banded_palm_civet>,\n",
      "        <http://dbpedia.org/resource/Bar-headed_goose>,\n",
      "        <http://dbpedia.org/resource/Barred_tiger_salamander>,\n",
      "        <http://dbpedia.org/resource/Bat-eared_fox>,\n",
      "        <http://dbpedia.org/resource/Batu,_East_Java>,\n",
      "        <http://dbpedia.org/resource/Beauty_rat_snake>,\n",
      "        <http://dbpedia.org/resource/Bengal_tiger>,\n",
      "        <http://dbpedia.org/resource/Binturong>,\n",
      "        <http://dbpedia.org/resource/Biology>,\n",
      "        <http://dbpedia.org/resource/Black-and-white_ruffed_lemur>,\n",
      "        <http://dbpedia.org/resource/Black-backed_jackal>,\n",
      "        <http://dbpedia.org/resource/Black-tufted_marmoset>,\n",
      "        <http://dbpedia.org/resource/Black_giant_squirrel>,\n",
      "        <http://dbpedia.org/resource/Black_lemur>,\n",
      "        <http://dbpedia.org/resource/Black_panther>,\n",
      "        <http://dbpedia.org/resource/Black_swan>,\n",
      "        <http://dbpedia.org/resource/Black_tree_monitor>,\n",
      "        <http://dbpedia.org/resource/Blackbuck>,\n",
      "        <http://dbpedia.org/resource/Blacktip_reef_shark>,\n",
      "        <http://dbpedia.org/resource/Blesbok>,\n",
      "        <http://dbpedia.org/resource/Blood_parrot_cichlid>,\n",
      "        <http://dbpedia.org/resource/Bluespine_unicornfish>,\n",
      "        <http://dbpedia.org/resource/Boeseman's_rainbowfish>,\n",
      "        <http://dbpedia.org/resource/Boiga_dendrophila>,\n",
      "        <http://dbpedia.org/resource/Bornean_orangutan>,\n",
      "        <http://dbpedia.org/resource/Bukittingi>,\n",
      "        <http://dbpedia.org/resource/Burmese_python>,\n",
      "        <http://dbpedia.org/resource/Candoia_aspera>,\n",
      "        <http://dbpedia.org/resource/Cape_ground_squirrel>,\n",
      "        <http://dbpedia.org/resource/Cardisoma_armatum>,\n",
      "        <http://dbpedia.org/resource/Category:2001_establishments_in_Indonesia>,\n",
      "        <http://dbpedia.org/resource/Category:Amusement_parks_in_Indonesia>,\n",
      "        <http://dbpedia.org/resource/Category:Amusement_parks_opened_in_2001>,\n",
      "        <http://dbpedia.org/resource/Category:Buildings_and_structures_completed_in_2001>,\n",
      "        <http://dbpedia.org/resource/Category:Companies_based_in_Batu,_East_Java>,\n",
      "        <http://dbpedia.org/resource/Category:East_Java>,\n",
      "        <http://dbpedia.org/resource/Category:Indonesian_brands>,\n",
      "        <http://dbpedia.org/resource/Category:Tourist_attractions_in_East_Java>,\n",
      "        <http://dbpedia.org/resource/Central_bearded_dragon>,\n",
      "        <http://dbpedia.org/resource/Channa>,\n",
      "        <http://dbpedia.org/resource/Chapman's_zebra>,\n",
      "        <http://dbpedia.org/resource/Chelonodon>,\n",
      "        <http://dbpedia.org/resource/Chilabothrus_angulifer>,\n",
      "        <http://dbpedia.org/resource/Chinese_water_dragon>,\n",
      "        <http://dbpedia.org/resource/Chrysiptera_hemicyanea>,\n",
      "        <http://dbpedia.org/resource/Clark's_anemonefish>,\n",
      "        <http://dbpedia.org/resource/Clouded_leopard>,\n",
      "        <http://dbpedia.org/resource/Collared_brown_lemur>,\n",
      "        <http://dbpedia.org/resource/Common_brown_lemur>,\n",
      "        <http://dbpedia.org/resource/Common_brushtail_possum>,\n",
      "        <http://dbpedia.org/resource/Common_carp>,\n",
      "        <http://dbpedia.org/resource/Common_dwarf_mongoose>,\n",
      "        <http://dbpedia.org/resource/Common_eland>,\n",
      "        <http://dbpedia.org/resource/Common_marmoset>,\n",
      "        <http://dbpedia.org/resource/Common_snapping_turtle>,\n",
      "        <http://dbpedia.org/resource/Congo_tetra>,\n",
      "        <http://dbpedia.org/resource/Coral_catshark>,\n",
      "        <http://dbpedia.org/resource/Coris_gaimard>,\n",
      "        <http://dbpedia.org/resource/Cotton-top_tamarin>,\n",
      "        <http://dbpedia.org/resource/Cougar>,\n",
      "        <http://dbpedia.org/resource/Coypu>,\n",
      "        <http://dbpedia.org/resource/Cretaceous>,\n",
      "        <http://dbpedia.org/resource/Crocodile_monitor>,\n",
      "        <http://dbpedia.org/resource/Cyclura_nubila>,\n",
      "        <http://dbpedia.org/resource/Cyphotilapia_frontosa>,\n",
      "        <http://dbpedia.org/resource/D'Albertis_python>,\n",
      "        <http://dbpedia.org/resource/De_Brazza's_monkey>,\n",
      "        <http://dbpedia.org/resource/Denison_barb>,\n",
      "        <http://dbpedia.org/resource/Diergaarde_Blijdorp>,\n",
      "        <http://dbpedia.org/resource/Diorama>,\n",
      "        <http://dbpedia.org/resource/Donkey>,\n",
      "        <http://dbpedia.org/resource/Dromedary_camel>,\n",
      "        <http://dbpedia.org/resource/Dwarf_caiman>,\n",
      "        <http://dbpedia.org/resource/Dwarf_mongoose>,\n",
      "        <http://dbpedia.org/resource/Earless_monitor_lizard>,\n",
      "        <http://dbpedia.org/resource/East_Java>,\n",
      "        <http://dbpedia.org/resource/Edinburgh_Zoo>,\n",
      "        <http://dbpedia.org/resource/Education>,\n",
      "        <http://dbpedia.org/resource/Electric_eel>,\n",
      "        <http://dbpedia.org/resource/Electric_yellow_cichlid>,\n",
      "        <http://dbpedia.org/resource/Emerald_tree_monitor>,\n",
      "        <http://dbpedia.org/resource/Endangered_species>,\n",
      "        <http://dbpedia.org/resource/Entertainment>,\n",
      "        <http://dbpedia.org/resource/Era_(geology)>,\n",
      "        <http://dbpedia.org/resource/False_gharial>,\n",
      "        <http://dbpedia.org/resource/Ferret>,\n",
      "        <http://dbpedia.org/resource/Fimbriated_moray>,\n",
      "        <http://dbpedia.org/resource/Finsch's_monitor>,\n",
      "        <http://dbpedia.org/resource/Fischer's_chameleon>,\n",
      "        <http://dbpedia.org/resource/Flowerhorn_cichlid>,\n",
      "        <http://dbpedia.org/resource/Forsten's_tortoise>,\n",
      "        <http://dbpedia.org/resource/Four-toed_hedgehog>,\n",
      "        <http://dbpedia.org/resource/Foxface_rabbitfish>,\n",
      "        <http://dbpedia.org/resource/Gemsbok>,\n",
      "        <http://dbpedia.org/resource/Geological_period>,\n",
      "        <http://dbpedia.org/resource/Giant_anteater>,\n",
      "        <http://dbpedia.org/resource/Giant_gourami>,\n",
      "        <http://dbpedia.org/resource/Giant_otter>,\n",
      "        <http://dbpedia.org/resource/Giant_trevally>,\n",
      "        <http://dbpedia.org/resource/Gold_tegu>,\n",
      "        <http://dbpedia.org/resource/Golden-headed_lion_tamarin>,\n",
      "        <http://dbpedia.org/resource/Golden_takin>,\n",
      "        <http://dbpedia.org/resource/Gonocephalus_chamaeleontinus>,\n",
      "        <http://dbpedia.org/resource/Grant's_zebra>,\n",
      "        <http://dbpedia.org/resource/Greater_spot-nosed_monkey>,\n",
      "        <http://dbpedia.org/resource/Green_anaconda>,\n",
      "        <http://dbpedia.org/resource/Green_iguana>,\n",
      "        <http://dbpedia.org/resource/Green_tree_python>,\n",
      "        <http://dbpedia.org/resource/Grey_parrot>,\n",
      "        <http://dbpedia.org/resource/Grizzly_bear>,\n",
      "        <http://dbpedia.org/resource/Guianan_squirrel_monkey>,\n",
      "        <http://dbpedia.org/resource/Guinea_pig>,\n",
      "        <http://dbpedia.org/resource/Halichoeres_chrysus>,\n",
      "        <http://dbpedia.org/resource/Hamadryas_baboon>,\n",
      "        <http://dbpedia.org/resource/Hippopotamus>,\n",
      "        <http://dbpedia.org/resource/Hog_badger>,\n",
      "        <http://dbpedia.org/resource/Homalopsis_buccata>,\n",
      "        <http://dbpedia.org/resource/Hydrosaurus_amboinensis>,\n",
      "        <http://dbpedia.org/resource/Ice_age>,\n",
      "        <http://dbpedia.org/resource/Impala>,\n",
      "        <http://dbpedia.org/resource/Indian_crested_porcupine>,\n",
      "        <http://dbpedia.org/resource/Indian_muntjac>,\n",
      "        <http://dbpedia.org/resource/Indian_rhinoceros>,\n",
      "        <http://dbpedia.org/resource/Indian_star_tortoise>,\n",
      "        <http://dbpedia.org/resource/Indonesia>,\n",
      "        <http://dbpedia.org/resource/Indonesian_Institute_of_Sciences>,\n",
      "        <http://dbpedia.org/resource/Iridescent_shark>,\n",
      "        <http://dbpedia.org/resource/Javan_leopard>,\n",
      "        <http://dbpedia.org/resource/Javan_rusa>,\n",
      "        <http://dbpedia.org/resource/Javan_slow_loris>,\n",
      "        <http://dbpedia.org/resource/Jihlava_Zoo>,\n",
      "        <http://dbpedia.org/resource/Juanda_International_Airport>,\n",
      "        <http://dbpedia.org/resource/Jurassic>,\n",
      "        <http://dbpedia.org/resource/Ken_Arok>,\n",
      "        <http://dbpedia.org/resource/Ken_Dedes>,\n",
      "        <http://dbpedia.org/resource/King_cobra>,\n",
      "        <http://dbpedia.org/resource/Kinkajou>,\n",
      "        <http://dbpedia.org/resource/Komodo_Dragon>,\n",
      "        <http://dbpedia.org/resource/Lampropeltis_mexicana>,\n",
      "        <http://dbpedia.org/resource/Lampropeltis_ruthveni>,\n",
      "        <http://dbpedia.org/resource/Lepidobatrachus_laevis>,\n",
      "        <http://dbpedia.org/resource/Liberec_Zoo>,\n",
      "        <http://dbpedia.org/resource/Linckia_laevigata>,\n",
      "        <http://dbpedia.org/resource/Lion>,\n",
      "        <http://dbpedia.org/resource/List_of_amusement_parks_in_Asia>,\n",
      "        <http://dbpedia.org/resource/Live_sharksucker>,\n",
      "        <http://dbpedia.org/resource/Llama>,\n",
      "        <http://dbpedia.org/resource/Long-tailed_chinchilla>,\n",
      "        <http://dbpedia.org/resource/Madagascar_day_gecko>,\n",
      "        <http://dbpedia.org/resource/Malang>,\n",
      "        <http://dbpedia.org/resource/Malayan_softshell_turtle>,\n",
      "        <http://dbpedia.org/resource/Malayan_tapir>,\n",
      "        <http://dbpedia.org/resource/Mandrill>,\n",
      "        <http://dbpedia.org/resource/Mantled_guereza>,\n",
      "        <http://dbpedia.org/resource/Map_puffer>,\n",
      "        <http://dbpedia.org/resource/Masked_palm_civet>,\n",
      "        <http://dbpedia.org/resource/Mata_mata>,\n",
      "        <http://dbpedia.org/resource/Maylandia_callainos>,\n",
      "        <http://dbpedia.org/resource/Meerkat>,\n",
      "        <http://dbpedia.org/resource/Melanochromis_auratus>,\n",
      "        <http://dbpedia.org/resource/Mexican_beaded_lizard>,\n",
      "        <http://dbpedia.org/resource/Miniature_pig>,\n",
      "        <http://dbpedia.org/resource/Ministry_of_Environment_and_Forestry_(Indonesia)>,\n",
      "        <http://dbpedia.org/resource/Mission_golden-eyed_tree_frog>,\n",
      "        <http://dbpedia.org/resource/Mitered_langur>,\n",
      "        <http://dbpedia.org/resource/Mona_monkey>,\n",
      "        <http://dbpedia.org/resource/Monitor_lizard>,\n",
      "        <http://dbpedia.org/resource/Monocled_cobra>,\n",
      "        <http://dbpedia.org/resource/Mouflon>,\n",
      "        <http://dbpedia.org/resource/Mozambique_tilapia>,\n",
      "        <http://dbpedia.org/resource/Mpu_Gandring>,\n",
      "        <http://dbpedia.org/resource/Museum_Angkut>,\n",
      "        <http://dbpedia.org/resource/Natural_science>,\n",
      "        <http://dbpedia.org/resource/New_Guinea_snake-necked_turtle>,\n",
      "        <http://dbpedia.org/resource/Nilgai>,\n",
      "        <http://dbpedia.org/resource/Nimbochromis_venustus>,\n",
      "        <http://dbpedia.org/resource/North_Sulawesi_babirusa>,\n",
      "        <http://dbpedia.org/resource/Northern_caiman_lizard>,\n",
      "        <http://dbpedia.org/resource/Northern_lynx>,\n",
      "        <http://dbpedia.org/resource/Nubian_giraffe>,\n",
      "        <http://dbpedia.org/resource/Nyala>,\n",
      "        <http://dbpedia.org/resource/Oscar_(fish)>,\n",
      "        <http://dbpedia.org/resource/Pacific_Ocean>,\n",
      "        <http://dbpedia.org/resource/Pacific_ground_boa>,\n",
      "        <http://dbpedia.org/resource/Panther_chameleon>,\n",
      "        <http://dbpedia.org/resource/Panulirus_ornatus>,\n",
      "        <http://dbpedia.org/resource/Paracanthurus>,\n",
      "        <http://dbpedia.org/resource/Parachromis_managuensis>,\n",
      "        <http://dbpedia.org/resource/Patagonian_mara>,\n",
      "        <http://dbpedia.org/resource/Peacock_bass>,\n",
      "        <http://dbpedia.org/resource/Permian>,\n",
      "        <http://dbpedia.org/resource/Pied_stilt>,\n",
      "        <http://dbpedia.org/resource/Pig-nosed_turtle>,\n",
      "        <http://dbpedia.org/resource/Platax_teira>,\n",
      "        <http://dbpedia.org/resource/Playground>,\n",
      "        <http://dbpedia.org/resource/Plumed_basilisk>,\n",
      "        <http://dbpedia.org/resource/Porcupine_river_stingray>,\n",
      "        <http://dbpedia.org/resource/Prevost's_squirrel>,\n",
      "        <http://dbpedia.org/resource/Protoreaster_nodosus>,\n",
      "        <http://dbpedia.org/resource/Pseudotropheus_cyaneorhabdos>,\n",
      "        <http://dbpedia.org/resource/Pterois_miles>,\n",
      "        <http://dbpedia.org/resource/Pterophyllum_scalare>,\n",
      "        <http://dbpedia.org/resource/Pygmy_hippo>,\n",
      "        <http://dbpedia.org/resource/Python_brongersmai>,\n",
      "        <http://dbpedia.org/resource/Quince_monitor>,\n",
      "        <http://dbpedia.org/resource/Rabbit>,\n",
      "        <http://dbpedia.org/resource/Raccoon>,\n",
      "        <http://dbpedia.org/resource/Ram_cichlid>,\n",
      "        <http://dbpedia.org/resource/Red-bellied_piranha>,\n",
      "        <http://dbpedia.org/resource/Red-eared_slider>,\n",
      "        <http://dbpedia.org/resource/Red-eyed_crocodile_skink>,\n",
      "        <http://dbpedia.org/resource/Red-handed_tamarin>,\n",
      "        <http://dbpedia.org/resource/Red-tailed_monkey>,\n",
      "        <http://dbpedia.org/resource/Red_garra>,\n",
      "        <http://dbpedia.org/resource/Red_lionfish>,\n",
      "        <http://dbpedia.org/resource/Red_ruffed_lemur>,\n",
      "        <http://dbpedia.org/resource/Redhook_myleus>,\n",
      "        <http://dbpedia.org/resource/Resorts>,\n",
      "        <http://dbpedia.org/resource/Reticulated_python>,\n",
      "        <http://dbpedia.org/resource/Rhinoceros_hornbill>,\n",
      "        <http://dbpedia.org/resource/Ribbon_eel>,\n",
      "        <http://dbpedia.org/resource/Ring-tailed_lemur>,\n",
      "        <http://dbpedia.org/resource/River_Safari>,\n",
      "        <http://dbpedia.org/resource/Rock_hyrax>,\n",
      "        <http://dbpedia.org/resource/Rosy_barb>,\n",
      "        <http://dbpedia.org/resource/Royal_gramma>,\n",
      "        <http://dbpedia.org/resource/Sable_antelope>,\n",
      "        <http://dbpedia.org/resource/Saddleback_clownfish>,\n",
      "        <http://dbpedia.org/resource/Sailfin_tang>,\n",
      "        <http://dbpedia.org/resource/Saltwater_crocodile>,\n",
      "        <http://dbpedia.org/resource/Sanzinia_madagascariensis>,\n",
      "        <http://dbpedia.org/resource/Scheepmaker's_crowned_pigeon>,\n",
      "        <http://dbpedia.org/resource/Scimitar_oryx>,\n",
      "        <http://dbpedia.org/resource/Serpae_tetra>,\n",
      "        <http://dbpedia.org/resource/Serval>,\n",
      "        <http://dbpedia.org/resource/Siamang>,\n",
      "        <http://dbpedia.org/resource/Siberian_tiger>,\n",
      "        <http://dbpedia.org/resource/Silver_arowana>,\n",
      "        <http://dbpedia.org/resource/Silvery_gibbon>,\n",
      "        <http://dbpedia.org/resource/Sinaloan_milk_snake>,\n",
      "        <http://dbpedia.org/resource/Snow_leopard>,\n",
      "        <http://dbpedia.org/resource/Snowflake_moray>,\n",
      "        <http://dbpedia.org/resource/South_American_Sea_Lion>,\n",
      "        <http://dbpedia.org/resource/South_American_coati>,\n",
      "        <http://dbpedia.org/resource/South_American_tapir>,\n",
      "        <http://dbpedia.org/resource/Southern_white_rhinoceros>,\n",
      "        <http://dbpedia.org/resource/Speckled_longfin_eel>,\n",
      "        <http://dbpedia.org/resource/Striped_hyena>,\n",
      "        <http://dbpedia.org/resource/Striped_possum>,\n",
      "        <http://dbpedia.org/resource/Sugar_glider>,\n",
      "        <http://dbpedia.org/resource/Sulawesi_dwarf_cuscus>,\n",
      "        <http://dbpedia.org/resource/Sumatran_clouded_leopard>,\n",
      "        <http://dbpedia.org/resource/Sumatran_elephant>,\n",
      "        <http://dbpedia.org/resource/Sumatran_tiger>,\n",
      "        <http://dbpedia.org/resource/Sun_bear>,\n",
      "        <http://dbpedia.org/resource/Sunda_pangolin>,\n",
      "        <http://dbpedia.org/resource/Sunda_porcupine>,\n",
      "        <http://dbpedia.org/resource/Susilo_Bambang_Yudhoyono>,\n",
      "        <http://dbpedia.org/resource/Symphysodon_aequifasciatus>,\n",
      "        <http://dbpedia.org/resource/Symphysodon_discus>,\n",
      "        <http://dbpedia.org/resource/Tachypleus_gigas>,\n",
      "        <http://dbpedia.org/resource/Taman_Safari>,\n",
      "        <http://dbpedia.org/resource/Texas_Longhorn>,\n",
      "        <http://dbpedia.org/resource/Theloderma_corticale>,\n",
      "        <http://dbpedia.org/resource/Tiger_barb>,\n",
      "        <http://dbpedia.org/resource/Triassic>,\n",
      "        <http://dbpedia.org/resource/Trimeresurus_insularis>,\n",
      "        <http://dbpedia.org/resource/Tufted_capuchin>,\n",
      "        <http://dbpedia.org/resource/Typhlonectes_natans>,\n",
      "        <http://dbpedia.org/resource/Varanus_kordensis>,\n",
      "        <http://dbpedia.org/resource/Varanus_macraei>,\n",
      "        <http://dbpedia.org/resource/Varanus_yuwonoi>,\n",
      "        <http://dbpedia.org/resource/Waterbuck>,\n",
      "        <http://dbpedia.org/resource/Weber's_sailfin_lizard>,\n",
      "        <http://dbpedia.org/resource/Western_crowned_pigeon>,\n",
      "        <http://dbpedia.org/resource/Western_long-beaked_echidna>,\n",
      "        <http://dbpedia.org/resource/Western_pygmy_marmoset>,\n",
      "        <http://dbpedia.org/resource/White-headed_marmoset>,\n",
      "        <http://dbpedia.org/resource/White-lipped_tamarin>,\n",
      "        <http://dbpedia.org/resource/White-spotted_puffer>,\n",
      "        <http://dbpedia.org/resource/White_lion>,\n",
      "        <http://dbpedia.org/resource/White_tiger>,\n",
      "        <http://dbpedia.org/resource/Wildlife>,\n",
      "        <http://dbpedia.org/resource/Wolf's_mona_monkey>,\n",
      "        <http://dbpedia.org/resource/Yellow-headed_water_monitor>,\n",
      "        <http://dbpedia.org/resource/Yellow-spotted_monitor>,\n",
      "        <http://dbpedia.org/resource/Yellow-throated_marten>,\n",
      "        <http://dbpedia.org/resource/Zebra_moray>,\n",
      "        <http://dbpedia.org/resource/Zebrafish>,\n",
      "        <http://dbpedia.org/resource/Ústí_nad_Labem_Zoo> ;\n",
      "    dbp:homepage <https://jtp.id/> ;\n",
      "    dbp:location <http://dbpedia.org/resource/Batu,_East_Java>,\n",
      "        <http://dbpedia.org/resource/East_Java>,\n",
      "        <http://dbpedia.org/resource/Indonesia> ;\n",
      "    dbp:logo \"Jatim Park logo.svg\"@en ;\n",
      "    dbp:name \"Jatim Park\"@en ;\n",
      "    dbp:openingDate \"2001-12-09\"^^xsd:date ;\n",
      "    dbp:operator \"Jawa Timur Park\"@en ;\n",
      "    dbp:owner \"Jawa Timur Park Group\"@en ;\n",
      "    dbp:season \"Year-round\"@en ;\n",
      "    dbp:theme \"Amusement parks, education parks, and resorts\"@en ;\n",
      "    dbp:wikiPageUsesTemplate <http://dbpedia.org/resource/Template:Coord>,\n",
      "        <http://dbpedia.org/resource/Template:Div_col>,\n",
      "        <http://dbpedia.org/resource/Template:Div_col_end>,\n",
      "        <http://dbpedia.org/resource/Template:Infobox_amusement_park>,\n",
      "        <http://dbpedia.org/resource/Template:Portal>,\n",
      "        <http://dbpedia.org/resource/Template:Reflist>,\n",
      "        <http://dbpedia.org/resource/Template:Start_date_and_age>,\n",
      "        <http://dbpedia.org/resource/Template:Tourist_attractions_in_Indonesia> ;\n",
      "    dct:subject <http://dbpedia.org/resource/Category:2001_establishments_in_Indonesia>,\n",
      "        <http://dbpedia.org/resource/Category:Amusement_parks_in_Indonesia>,\n",
      "        <http://dbpedia.org/resource/Category:Amusement_parks_opened_in_2001>,\n",
      "        <http://dbpedia.org/resource/Category:Buildings_and_structures_completed_in_2001>,\n",
      "        <http://dbpedia.org/resource/Category:Companies_based_in_Batu,_East_Java>,\n",
      "        <http://dbpedia.org/resource/Category:East_Java>,\n",
      "        <http://dbpedia.org/resource/Category:Indonesian_brands>,\n",
      "        <http://dbpedia.org/resource/Category:Tourist_attractions_in_East_Java> ;\n",
      "    georss:point \"-7.88412 112.52491\" ;\n",
      "    rdfs:comment \"Jawa Timur Park, commonly known as Jatim Park or JTP, is a complex of recreational and learning parks located in Batu, East Java, Indonesia. The complex has 3 parks, Jatim Park 1, Jatim Park 2, and Jatim Park 3. Jatim Park is one of the tourism icons of East Java and one of the most famous amusement parks in Indonesia.\"@en,\n",
      "        \"Jatim Park adalah sebuah tempat rekreasi dan taman belajar yang terdapat di Kota Batu, Jawa Timur. Objek wisata ini berada sekitar 20 km barat Kota Malang, dan kini menjadi salah satu icon wisata Jawa Timur. Objek wisata ini memiliki 36 wahana, di antaranya kolam renang raksasa (dengan latar belakang patung Ken Dedes, Ken Arok, dan Mpu Gandring), spinning coaster, dan drop zone. Wahana pendidikan yang menjadi pusat perhatian di antaranya adalah Volcano dan Galeri Nusantara yang juga terdapat tanaman agro, diorama binatang langka, dan miniatur candi-candi. Jatim Park 1 beralamat di Jalan Kartika no. 2, yang berdekatan dengan\"@in ;\n",
      "    owl:sameAs <http://arz.dbpedia.org/resource/چاوا_تيمور_پارك>,\n",
      "        <http://dbpedia.org/resource/Jawa_Timur_Park>,\n",
      "        <http://id.dbpedia.org/resource/Jatim_Park>,\n",
      "        <http://jv.dbpedia.org/resource/Jatim_Park>,\n",
      "        <http://www.wikidata.org/entity/Q19726842>,\n",
      "        <https://global.dbpedia.org/id/sybm> ;\n",
      "    geo:lat \"-7.88412\"^^xsd:float ;\n",
      "    geo:long \"112.525\"^^xsd:float ;\n",
      "    prov:wasDerivedFrom <http://en.wikipedia.org/wiki/Jawa_Timur_Park?oldid=1041615279&ns=0> ;\n",
      "    foaf:depiction <http://commons.wikimedia.org/wiki/Special:FilePath/East_Java_Park,_Batu,_Malang.jpg>,\n",
      "        <http://commons.wikimedia.org/wiki/Special:FilePath/Jatim_Park_logo.svg> ;\n",
      "    foaf:homepage <https://jtp.id/> ;\n",
      "    foaf:isPrimaryTopicOf <http://en.wikipedia.org/wiki/Jawa_Timur_Park> .\n",
      "\n",
      "\n"
     ]
    }
   ],
   "source": [
    "# load a graph from a URI\n",
    "g = rdflib.Graph()\n",
    "g.parse(\"https://dbpedia.org/resource/Jawa_Timur_Park\")\n",
    "print(g.serialize(format=\"turtle\"))"
   ],
   "metadata": {
    "collapsed": false,
    "pycharm": {
     "name": "#%%\n"
    }
   }
  },
  {
   "cell_type": "code",
   "execution_count": 18,
   "outputs": [
    {
     "name": "stdout",
     "output_type": "stream",
     "text": [
      "@prefix dbo: <http://dbpedia.org/ontology/> .\n",
      "@prefix dbp: <http://dbpedia.org/property/> .\n",
      "@prefix foaf: <http://xmlns.com/foaf/0.1/> .\n",
      "@prefix owl: <http://www.w3.org/2002/07/owl#> .\n",
      "@prefix prov: <http://www.w3.org/ns/prov#> .\n",
      "@prefix rdfs: <http://www.w3.org/2000/01/rdf-schema#> .\n",
      "@prefix xsd: <http://www.w3.org/2001/XMLSchema#> .\n",
      "\n",
      "<http://dbpedia.org/resource/Chosen_Effect> dbo:wikiPageWikiLink <http://dbpedia.org/resource/Fried_Rice> .\n",
      "\n",
      "<http://dbpedia.org/resource/Khushka_Rice> dbo:wikiPageWikiLink <http://dbpedia.org/resource/Fried_Rice> .\n",
      "\n",
      "<http://dbpedia.org/resource/List_of_Chinese_dishes> dbo:wikiPageWikiLink <http://dbpedia.org/resource/Fried_Rice> .\n",
      "\n",
      "<http://dbpedia.org/resource/Mixed_rice_dish> dbo:wikiPageWikiLink <http://dbpedia.org/resource/Fried_Rice> .\n",
      "\n",
      "<http://dbpedia.org/resource/Takikomi_gohan> dbo:wikiPageWikiLink <http://dbpedia.org/resource/Fried_Rice> .\n",
      "\n",
      "<http://en.wikipedia.org/wiki/Fried_Rice> foaf:primaryTopic <http://dbpedia.org/resource/Fried_Rice> .\n",
      "\n",
      "<http://dbpedia.org/resource/Fried_Rice> rdfs:label \"Fried Rice\"@en ;\n",
      "    dbo:wikiPageID 849078 ;\n",
      "    dbo:wikiPageLength \"89\"^^xsd:nonNegativeInteger ;\n",
      "    dbo:wikiPageRedirects <http://dbpedia.org/resource/Fried_rice> ;\n",
      "    dbo:wikiPageRevisionID 784280053 ;\n",
      "    dbo:wikiPageWikiLink <http://dbpedia.org/resource/Fried_rice> ;\n",
      "    dbp:wikiPageUsesTemplate <http://dbpedia.org/resource/Template:R_from_other_capitalisation>,\n",
      "        <http://dbpedia.org/resource/Template:Redirect_category_shell> ;\n",
      "    owl:sameAs <http://dbpedia.org/resource/Fried_Rice> ;\n",
      "    prov:wasDerivedFrom <http://en.wikipedia.org/wiki/Fried_Rice?oldid=784280053&ns=0> ;\n",
      "    foaf:depiction <http://commons.wikimedia.org/wiki/Special:FilePath/YUEZHI._Arseiles._Late_1st_century_BCE.jpg> ;\n",
      "    foaf:isPrimaryTopicOf <http://en.wikipedia.org/wiki/Fried_Rice> .\n",
      "\n",
      "\n"
     ]
    }
   ],
   "source": [
    "g = rdflib.Graph()\n",
    "g.parse(\"https://dbpedia.org/resource/Fried_Rice\")\n",
    "print(g.serialize(format=\"turtle\"))"
   ],
   "metadata": {
    "collapsed": false,
    "pycharm": {
     "name": "#%%\n"
    }
   }
  },
  {
   "cell_type": "code",
   "execution_count": null,
   "outputs": [],
   "source": [],
   "metadata": {
    "collapsed": false,
    "pycharm": {
     "name": "#%%\n"
    }
   }
  }
 ],
 "metadata": {
  "kernelspec": {
   "display_name": "Python 3",
   "language": "python",
   "name": "python3"
  },
  "language_info": {
   "codemirror_mode": {
    "name": "ipython",
    "version": 2
   },
   "file_extension": ".py",
   "mimetype": "text/x-python",
   "name": "python",
   "nbconvert_exporter": "python",
   "pygments_lexer": "ipython2",
   "version": "2.7.6"
  }
 },
 "nbformat": 4,
 "nbformat_minor": 0
}